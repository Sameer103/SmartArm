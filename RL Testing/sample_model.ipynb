{
  "nbformat": 4,
  "nbformat_minor": 0,
  "metadata": {
    "colab": {
      "private_outputs": true,
      "provenance": []
    },
    "kernelspec": {
      "name": "python3",
      "display_name": "Python 3"
    },
    "language_info": {
      "name": "python"
    }
  },
  "cells": [
    {
      "cell_type": "code",
      "source": [
        "!pip install scikit-learn\n"
      ],
      "metadata": {
        "id": "HviBw2yZvWmo"
      },
      "execution_count": null,
      "outputs": []
    },
    {
      "cell_type": "code",
      "source": [
        "!pip install tf-agents\n",
        "\n"
      ],
      "metadata": {
        "id": "7m_svSwPvk4X"
      },
      "execution_count": null,
      "outputs": []
    },
    {
      "cell_type": "code",
      "execution_count": null,
      "metadata": {
        "id": "ntUNfwcVtM5I"
      },
      "outputs": [],
      "source": [
        "import numpy as np # linear algebra\n",
        "import pandas as pd # data processing, CSV file I/O (e.g. pd.read_csv)\n",
        "\n",
        "# Input data files are available in the read-only \"../input/\" directory\n",
        "# For example, running this (by clicking run or pressing Shift+Enter) will list all files under the input directory\n",
        "\n",
        "import os\n",
        "for dirname, _, filenames in os.walk('/kaggle/input'):\n",
        "    for filename in filenames:\n",
        "        print(os.path.join(dirname, filename))"
      ]
    },
    {
      "cell_type": "code",
      "source": [
        "from google.colab import files\n",
        "uploaded=files.upload()"
      ],
      "metadata": {
        "id": "zK58EJ97FQR3"
      },
      "execution_count": null,
      "outputs": []
    },
    {
      "cell_type": "code",
      "source": [
        "import pandas as pd\n",
        "# Make display smaller\n",
        "pd.options.display.max_rows = 10\n",
        "unames = ['user_id', 'gender', 'age', 'occupation', 'zip']\n",
        "users = pd.read_table('users.dat', sep='::',header=None, names=unames, engine='python')\n"
      ],
      "metadata": {
        "id": "GTPwPB-8Rvo1"
      },
      "execution_count": null,
      "outputs": []
    },
    {
      "cell_type": "code",
      "source": [
        "rnames = ['user_id', 'movie_id', 'rating', 'timestamp']\n",
        "ratings = pd.read_table('ratings.dat', sep='::',\n",
        " header=None, names=rnames, engine='python')\n"
      ],
      "metadata": {
        "id": "nPxfz5BCFbp3"
      },
      "execution_count": null,
      "outputs": []
    },
    {
      "cell_type": "code",
      "source": [
        "movies = pd.read_table('movies.dat', sep='::',\n",
        " header=None, names=mnames, engine='python', encoding='latin-1')"
      ],
      "metadata": {
        "id": "t-rbE5ZZITUa"
      },
      "execution_count": null,
      "outputs": []
    },
    {
      "cell_type": "code",
      "source": [
        "users[:5]"
      ],
      "metadata": {
        "id": "a_zLTH9pQKHP"
      },
      "execution_count": null,
      "outputs": []
    },
    {
      "cell_type": "code",
      "source": [
        "ratings[:5]"
      ],
      "metadata": {
        "id": "IgTINMS1QLbu"
      },
      "execution_count": null,
      "outputs": []
    },
    {
      "cell_type": "code",
      "source": [
        "movies[:5]"
      ],
      "metadata": {
        "id": "btbJTBmrQML_"
      },
      "execution_count": null,
      "outputs": []
    },
    {
      "cell_type": "code",
      "source": [
        "data = pd.merge(pd.merge(ratings, users), movies)"
      ],
      "metadata": {
        "id": "W1bIEC-qQTLn"
      },
      "execution_count": null,
      "outputs": []
    },
    {
      "cell_type": "code",
      "source": [
        "data.head()"
      ],
      "metadata": {
        "id": "L-JLjCwxQY6X"
      },
      "execution_count": null,
      "outputs": []
    },
    {
      "cell_type": "code",
      "source": [
        "movies = movies.join(movies['genres'].str.get_dummies().astype(bool))\n",
        "print(movies.head())\n",
        "movies.drop('genres', inplace=True, axis=1)\n",
        "ratings['Liked'] = ratings['rating'].apply(lambda x: 1 if x == 5 else 0)"
      ],
      "metadata": {
        "id": "7O0JNspVQrPy"
      },
      "execution_count": null,
      "outputs": []
    },
    {
      "cell_type": "code",
      "source": [
        "top10ids = ratings['movie_id'].value_counts().head(10)\n",
        "most_rated = movies.loc[movies['movie_id'].isin(top10ids.index)]\n",
        "print(top10ids.index)\n"
      ],
      "metadata": {
        "id": "XXLrFRATQ6Nt"
      },
      "execution_count": null,
      "outputs": []
    },
    {
      "cell_type": "code",
      "source": [
        "ratings_top10 = ratings.loc[ratings['movie_id'].isin(top10ids.index)]\n",
        "ratings_top10"
      ],
      "metadata": {
        "id": "kJ_MsXPyRCF9"
      },
      "execution_count": null,
      "outputs": []
    },
    {
      "cell_type": "code",
      "source": [],
      "metadata": {
        "id": "xe3szoVLRK8P"
      },
      "execution_count": null,
      "outputs": []
    }
  ]
}